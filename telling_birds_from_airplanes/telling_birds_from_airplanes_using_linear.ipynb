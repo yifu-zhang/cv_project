{
 "cells": [
  {
   "cell_type": "markdown",
   "id": "86c710df",
   "metadata": {},
   "source": [
    "Here, we will use a dataset, called CIFAR-10. It has been a computer vision classic for a decade.\n",
    "\n",
    "7.1.1 Downloading CIFAR-10"
   ]
  },
  {
   "cell_type": "code",
   "execution_count": 1,
   "id": "f6f18d0a",
   "metadata": {},
   "outputs": [
    {
     "name": "stdout",
     "output_type": "stream",
     "text": [
      "Files already downloaded and verified\n",
      "Files already downloaded and verified\n"
     ]
    }
   ],
   "source": [
    "from torchvision import datasets\n",
    "\n",
    "data_path = '../CIFAR-10/'\n",
    "cifar10 = datasets.CIFAR10(data_path, train=True, download=True)\n",
    "cifar10_val = datasets.CIFAR10(data_path, train=False, download=True)"
   ]
  },
  {
   "cell_type": "markdown",
   "id": "24e75181",
   "metadata": {},
   "source": [
    "The second argument specifies whether we're interested in the training set or validation set; and the third says whether we allow Pytorch to download the data if it is not found in the location specified in the first argument.\n",
    "\n",
    "The dataset is returned as a subclass of torch.utils.data.Dataset"
   ]
  },
  {
   "cell_type": "code",
   "execution_count": 2,
   "id": "b4c30342",
   "metadata": {},
   "outputs": [
    {
     "data": {
      "text/plain": [
       "(torchvision.datasets.cifar.CIFAR10,\n",
       " torchvision.datasets.vision.VisionDataset,\n",
       " torch.utils.data.dataset.Dataset,\n",
       " typing.Generic,\n",
       " object)"
      ]
     },
     "execution_count": 2,
     "metadata": {},
     "output_type": "execute_result"
    }
   ],
   "source": [
    "type(cifar10).__mro__"
   ]
  },
  {
   "cell_type": "markdown",
   "id": "b36dc904",
   "metadata": {},
   "source": [
    "7.1.2 The dataset class: \n",
    "\n",
    "It's an object that is required to implement two methods:$\\_\\_len\\_\\_$ and $\\_\\_getitem\\_\\_$. The former should return the number of items in the dataset; the latter should return the item, consisting of a sample and its corresponding label."
   ]
  },
  {
   "cell_type": "code",
   "execution_count": 3,
   "id": "685a84f0",
   "metadata": {},
   "outputs": [
    {
     "data": {
      "text/plain": [
       "50000"
      ]
     },
     "execution_count": 3,
     "metadata": {},
     "output_type": "execute_result"
    }
   ],
   "source": [
    "len(cifar10)"
   ]
  },
  {
   "cell_type": "markdown",
   "id": "572ffd18",
   "metadata": {},
   "source": [
    "We can use the standard subscript for indexing tuples and lists to access individuals items."
   ]
  },
  {
   "cell_type": "code",
   "execution_count": 4,
   "id": "d542f41c",
   "metadata": {},
   "outputs": [
    {
     "data": {
      "text/plain": [
       "(<PIL.Image.Image image mode=RGB size=32x32 at 0x7F70A09BFCF8>,\n",
       " 1,\n",
       " 'automobile')"
      ]
     },
     "execution_count": 4,
     "metadata": {},
     "output_type": "execute_result"
    }
   ],
   "source": [
    "class_names = ['airplane','automobile','bird','cat','deer',\n",
    "               'dog','frog','horse','ship','truck']\n",
    "\n",
    "img, label = cifar10[99]\n",
    "img, label, class_names[label]"
   ]
  },
  {
   "cell_type": "markdown",
   "id": "0b7d3ee2",
   "metadata": {},
   "source": [
    "So the sample in the data.CIFAR10 dataset is an instane of an RGB PIL(Python Image Library) image. We can plot it"
   ]
  },
  {
   "cell_type": "code",
   "execution_count": 5,
   "id": "7b02facf",
   "metadata": {},
   "outputs": [
    {
     "data": {
      "image/png": "[encoded data removed]",
      "text/plain": [
       "<Figure size 432x288 with 1 Axes>"
      ]
     },
     "metadata": {
      "needs_background": "light"
     },
     "output_type": "display_data"
    }
   ],
   "source": [
    "from matplotlib import pyplot as plt\n",
    "\n",
    "plt.imshow(img)\n",
    "plt.show()"
   ]
  },
  {
   "cell_type": "markdown",
   "id": "028e9661",
   "metadata": {},
   "source": [
    "7.1.3 Dataset transforms:\n",
    "\n",
    "We'll likely need a way to convert the PIL image to a PyTorch tensors. The torchvision.transforms defines a set of composable, function-like objects that can be passed as an argument to a torchvision dataset such as datasets.CIFAR10(), and that perform transformation on the data after it's loaded but before it is returned by \\_\\_getitem\\_\\_. Let's see the list of available objects as follows:"
   ]
  },
  {
   "cell_type": "code",
   "execution_count": 6,
   "id": "93ebd28a",
   "metadata": {},
   "outputs": [
    {
     "data": {
      "text/plain": [
       "['AutoAugment', 'AutoAugmentPolicy', 'CenterCrop', 'ColorJitter', 'Compose']"
      ]
     },
     "execution_count": 6,
     "metadata": {},
     "output_type": "execute_result"
    }
   ],
   "source": [
    "from torchvision import transforms\n",
    "dir(transforms)[:5]"
   ]
  },
  {
   "cell_type": "markdown",
   "id": "7fe7b8e6",
   "metadata": {},
   "source": [
    "Among these transforms, we can spot $ToTensor$, which turns NumPy arrays and PIL images to tensors. It also takes care to lay out the dimensions of the output tensors as C\\*H\\*W (channel, height, weight)"
   ]
  },
  {
   "cell_type": "code",
   "execution_count": 7,
   "id": "a2787eaa",
   "metadata": {},
   "outputs": [
    {
     "data": {
      "text/plain": [
       "torch.Size([3, 32, 32])"
      ]
     },
     "execution_count": 7,
     "metadata": {},
     "output_type": "execute_result"
    }
   ],
   "source": [
    "to_tensor = transforms.ToTensor()\n",
    "img_t = to_tensor(img)\n",
    "img_t.shape"
   ]
  },
  {
   "cell_type": "markdown",
   "id": "77509f18",
   "metadata": {},
   "source": [
    "A three channel(RGB) 32 $\\times$ 32 images. Note that nothing has happened to label; it is still an integer.\n",
    "\n",
    "As we anticipated, we can pass the transform directly as an argument to dataset.CIFAR10"
   ]
  },
  {
   "cell_type": "code",
   "execution_count": 8,
   "id": "fd64ee33",
   "metadata": {},
   "outputs": [],
   "source": [
    "tensor_cifar10 = datasets.CIFAR10(data_path,\n",
    "                                  train=True,\n",
    "                                  download=False,\n",
    "                                  transform=transforms.ToTensor())"
   ]
  },
  {
   "cell_type": "markdown",
   "id": "a255f31a",
   "metadata": {},
   "source": [
    "At this point, accessing an element of the dataset will return a tensor, rather than a PIL image:"
   ]
  },
  {
   "cell_type": "code",
   "execution_count": 9,
   "id": "1c9f1455",
   "metadata": {},
   "outputs": [
    {
     "data": {
      "text/plain": [
       "torch.Tensor"
      ]
     },
     "execution_count": 9,
     "metadata": {},
     "output_type": "execute_result"
    }
   ],
   "source": [
    "img_t, _ = tensor_cifar10[99]\n",
    "type(img_t)"
   ]
  },
  {
   "cell_type": "code",
   "execution_count": 10,
   "id": "e9d1240d",
   "metadata": {},
   "outputs": [
    {
     "data": {
      "text/plain": [
       "(torch.Size([3, 32, 32]), torch.float32)"
      ]
     },
     "execution_count": 10,
     "metadata": {},
     "output_type": "execute_result"
    }
   ],
   "source": [
    "img_t.shape, img_t.dtype"
   ]
  },
  {
   "cell_type": "markdown",
   "id": "235f66cd",
   "metadata": {},
   "source": [
    "Whereas the values in the orginal PIL image ranged from 0 to 255, the ToTensor turns the data into a 32-bit floating-point per channel, scaling the values down from 0.0 to 1.0"
   ]
  },
  {
   "cell_type": "code",
   "execution_count": 11,
   "id": "f42f4668",
   "metadata": {},
   "outputs": [
    {
     "data": {
      "text/plain": [
       "(tensor(0.), tensor(1.))"
      ]
     },
     "execution_count": 11,
     "metadata": {},
     "output_type": "execute_result"
    }
   ],
   "source": [
    "img_t.min(), img_t.max()"
   ]
  },
  {
   "cell_type": "code",
   "execution_count": 12,
   "id": "58121612",
   "metadata": {},
   "outputs": [
    {
     "data": {
      "image/png": "[encoded data removed]",
      "text/plain": [
       "<Figure size 432x288 with 1 Axes>"
      ]
     },
     "metadata": {
      "needs_background": "light"
     },
     "output_type": "display_data"
    }
   ],
   "source": [
    "# changes the order of axes from C*H*W to H*W*C to match what matplotlib expects\n",
    "plt.imshow(img_t.permute(1, 2, 0))\n",
    "plt.show()"
   ]
  },
  {
   "cell_type": "markdown",
   "id": "81fa2eab",
   "metadata": {},
   "source": [
    "7.1.4 Normalizing data\n",
    "\n",
    "We can chain them using transforms.Compose, and they can handle normalization and data augmentation transparently, directly in the data loader. For instance, it's good practice to normalize the dataset so that each channel has zero mean and unitary sd.\n",
    "\n",
    "The values of mean and stdev must be computed offline. Let's stack all the tensors returned by the dataset along an extra dimension:"
   ]
  },
  {
   "cell_type": "code",
   "execution_count": 13,
   "id": "7185e6fa",
   "metadata": {},
   "outputs": [
    {
     "data": {
      "text/plain": [
       "torch.Size([3, 32, 32, 50000])"
      ]
     },
     "execution_count": 13,
     "metadata": {},
     "output_type": "execute_result"
    }
   ],
   "source": [
    "import torch\n",
    "\n",
    "imgs = torch.stack([img_t for img_t, _ in tensor_cifar10], dim=3)\n",
    "imgs.shape"
   ]
  },
  {
   "cell_type": "markdown",
   "id": "2f4ea4bc",
   "metadata": {},
   "source": [
    "Now we can easily compute the mean per channel:"
   ]
  },
  {
   "cell_type": "code",
   "execution_count": 14,
   "id": "fe487bfb",
   "metadata": {},
   "outputs": [
    {
     "data": {
      "text/plain": [
       "tensor([0.4914, 0.4822, 0.4465])"
      ]
     },
     "execution_count": 14,
     "metadata": {},
     "output_type": "execute_result"
    }
   ],
   "source": [
    "imgs.view(3, -1).mean(dim=1)"
   ]
  },
  {
   "cell_type": "markdown",
   "id": "7613c7d5",
   "metadata": {},
   "source": [
    "Recall that view(3, -1) keeps the three channel and merges all the remaining dimension into one, figuring out the appropriate size. Here our 3\\*32\\*32 image is transformed into a 3\\*1024 vector, and then the mean is taken over the 1024 elements of each channel.\n",
    "\n",
    "Computing the stdev is similar:"
   ]
  },
  {
   "cell_type": "code",
   "execution_count": 15,
   "id": "97bf995a",
   "metadata": {},
   "outputs": [
    {
     "data": {
      "text/plain": [
       "tensor([0.2470, 0.2435, 0.2616])"
      ]
     },
     "execution_count": 15,
     "metadata": {},
     "output_type": "execute_result"
    }
   ],
   "source": [
    "imgs.view(3, -1).std(dim=1)"
   ]
  },
  {
   "cell_type": "markdown",
   "id": "285c198f",
   "metadata": {},
   "source": [
    "With these number in our hands, we can initialize the $Normalize$ transform."
   ]
  },
  {
   "cell_type": "code",
   "execution_count": 16,
   "id": "0601b914",
   "metadata": {},
   "outputs": [
    {
     "data": {
      "text/plain": [
       "Normalize(mean=(0.4914, 0.4822, 0.4465), std=(0.247, 0.2435, 0.2616))"
      ]
     },
     "execution_count": 16,
     "metadata": {},
     "output_type": "execute_result"
    }
   ],
   "source": [
    "transforms.Normalize((0.4914, 0.4822, 0.4465), (0.2470, 0.2435, 0.2616))"
   ]
  },
  {
   "cell_type": "markdown",
   "id": "7d6ad957",
   "metadata": {},
   "source": [
    "and concatenate it after the $ToTensor$ transform:"
   ]
  },
  {
   "cell_type": "code",
   "execution_count": 17,
   "id": "fbb666b0",
   "metadata": {},
   "outputs": [],
   "source": [
    "transformed_cifar10 = datasets.CIFAR10(data_path, train=True, download=False,\n",
    "                                      transform=transforms.Compose([transforms.ToTensor(),\n",
    "                                                                   transforms.Normalize((0.4914, 0.4822, 0.4465),\n",
    "                                                                                        (0.2470, 0.2435, 0.2616))]))"
   ]
  },
  {
   "cell_type": "code",
   "execution_count": 18,
   "id": "1c080258",
   "metadata": {},
   "outputs": [],
   "source": [
    "cifar10 = datasets.CIFAR10(data_path, train=True, download=False,\n",
    "                           transform=transforms.Compose([transforms.ToTensor(),\n",
    "                                                         transforms.Normalize((0.4914, 0.4822, 0.4465),\n",
    "                                                                              (0.2470, 0.2435, 0.2616))]))\n",
    "\n",
    "cifar10_val = datasets.CIFAR10(data_path, train=False, download=False,\n",
    "                               transform=transforms.Compose([transforms.ToTensor(),\n",
    "                                                             transforms.Normalize((0.4914, 0.4822, 0.4465),\n",
    "                                                                                  (0.2470, 0.2435, 0.2616))]))"
   ]
  },
  {
   "cell_type": "markdown",
   "id": "a12b4e04",
   "metadata": {},
   "source": [
    "## 7.2 Distinguishing birds from airplanes\n",
    "7.2.1 Building the dataset\n",
    "\n",
    "We could create a $Dataset$ subclass that only includes birds and airplanes. We can take a shortcut and just filter the data in cifar10 and remap the labels so they are contiguous."
   ]
  },
  {
   "cell_type": "code",
   "execution_count": 19,
   "id": "3b421b9b",
   "metadata": {},
   "outputs": [],
   "source": [
    "label_map = {0: 0, 2: 1}\n",
    "class_names = ['airplane', 'bird']\n",
    "cifar2 = [(img, label_map[label])\n",
    "          for img, label in cifar10\n",
    "          if label in [0, 2]]\n",
    "\n",
    "cifar2_val = [(img, label_map[label])\n",
    "              for img, label in cifar10_val\n",
    "              if label in [0, 2]]"
   ]
  },
  {
   "cell_type": "markdown",
   "id": "5881e97b",
   "metadata": {},
   "source": [
    "7.2.2 A fully connected model\n",
    "\n",
    "In this demo, how many features per sample? Well, 32\\*32\\*32\\*3 = 3072 inputs features per sample. We will use linear model again :)?\n",
    "\n",
    "Our new model would be an nn.Linear with 3072 input features and some numbers of hidden numbers."
   ]
  },
  {
   "cell_type": "code",
   "execution_count": 20,
   "id": "7606c98d",
   "metadata": {},
   "outputs": [],
   "source": [
    "import torch.nn as nn\n",
    "\n",
    "n_out = 2\n",
    "\n",
    "model = nn.Sequential(nn.Linear(3072, 512,),\n",
    "                      nn.Tanh(),\n",
    "                      nn.Linear(512, n_out,))"
   ]
  },
  {
   "cell_type": "markdown",
   "id": "bc14d9d5",
   "metadata": {},
   "source": [
    "7.2.3 Output of a classifier. In the ideal case, the network would output torch.tensor([1.0, 0.0]) for an airplane and torch.tensor([0.0, 1.0]) for a bird.\n",
    "\n",
    "7.2.4 Representing the output as probabilities. Softmax is a function that takes a vector of values and produces another vector of the same dimension, where the values satisfy the constraints we just listed to represent probabilities.\n",
    "\n",
    "Let's test it on an input vector:"
   ]
  },
  {
   "cell_type": "code",
   "execution_count": 21,
   "id": "bc1c1969",
   "metadata": {},
   "outputs": [
    {
     "data": {
      "text/plain": [
       "tensor([0.0900, 0.2447, 0.6652])"
      ]
     },
     "execution_count": 21,
     "metadata": {},
     "output_type": "execute_result"
    }
   ],
   "source": [
    "def softmax(x):\n",
    "    return torch.exp(x)/torch.exp(x).sum()\n",
    "x = torch.tensor([1.0, 2.0, 3.0])\n",
    "\n",
    "softmax(x)"
   ]
  },
  {
   "cell_type": "code",
   "execution_count": 22,
   "id": "0e9a5693",
   "metadata": {},
   "outputs": [
    {
     "data": {
      "text/plain": [
       "tensor([[0.0900, 0.2447, 0.6652],\n",
       "        [0.0900, 0.2447, 0.6652]])"
      ]
     },
     "execution_count": 22,
     "metadata": {},
     "output_type": "execute_result"
    }
   ],
   "source": [
    "softmax = nn.Softmax(dim=1)\n",
    "\n",
    "x = torch.tensor([[1.0, 2.0, 3.0],\n",
    "                  [1.0, 2.0, 3.0]])\n",
    "\n",
    "softmax(x)"
   ]
  },
  {
   "cell_type": "markdown",
   "id": "304f2f13",
   "metadata": {},
   "source": [
    "We can now add a softmax at the end of our model, and our network will be equiped to produce probabilities."
   ]
  },
  {
   "cell_type": "code",
   "execution_count": 23,
   "id": "1627ae02",
   "metadata": {},
   "outputs": [],
   "source": [
    "model = nn.Sequential(nn.Linear(3072, 512),\n",
    "                      nn.Tanh(),\n",
    "                      nn.Linear(512, 2),\n",
    "                      nn.Softmax(dim=1))"
   ]
  },
  {
   "cell_type": "markdown",
   "id": "24429fd6",
   "metadata": {},
   "source": [
    "In order to call the model, we need to make the input have the right dimensions. We recall that our model expects 3072 input features, and that nn works with data organized into batch along the zeroth dimension. So we need to turn 3\\*32\\*32 image into a 1D tensor and then add an extra dimension in the zeroth position:"
   ]
  },
  {
   "cell_type": "code",
   "execution_count": 24,
   "id": "3b1658eb",
   "metadata": {},
   "outputs": [],
   "source": [
    "img, _ = cifar2[0]\n",
    "\n",
    "img_batch = img.view(-1).unsqueeze(0)"
   ]
  },
  {
   "cell_type": "code",
   "execution_count": 25,
   "id": "428b9e85",
   "metadata": {},
   "outputs": [
    {
     "data": {
      "text/plain": [
       "tensor([[0.4902, 0.5098]], grad_fn=<SoftmaxBackward>)"
      ]
     },
     "execution_count": 25,
     "metadata": {},
     "output_type": "execute_result"
    }
   ],
   "source": [
    "out = model(img_batch)\n",
    "out"
   ]
  },
  {
   "cell_type": "markdown",
   "id": "9d7d51c7",
   "metadata": {},
   "source": [
    "Time to get training.\n",
    "\n",
    "7.2.5 A loss for classifying: We want a loss function that is very high when the likelihood is low. There is a loss function that behaves that way, and it's called $negative\\_log\\_likelihood$ (NLL). Summing up, our loss for classification can be computed as follows. For each sample in the bacth:\n",
    "1. Run the forward pass, and obtain the output values from the last layer\n",
    "2. Compute the softmax, and obtain probabilities\n",
    "3. Take the predicted probability corresponding to the correct class. Note that we know what the correct class is because it's a superviesd problem.\n",
    "4. Compute its logarithm, slap a minus sign in front of it, and add it to the loss"
   ]
  },
  {
   "cell_type": "code",
   "execution_count": 26,
   "id": "09dd627a",
   "metadata": {},
   "outputs": [],
   "source": [
    "model = nn.Sequential(nn.Linear(3072, 512),\n",
    "                      nn.Tanh(),\n",
    "                      nn.Linear(512, 2),\n",
    "                      nn.LogSoftmax(dim=1))"
   ]
  },
  {
   "cell_type": "markdown",
   "id": "7be10f0f",
   "metadata": {},
   "source": [
    "Then we instantiate our NLL loss:"
   ]
  },
  {
   "cell_type": "code",
   "execution_count": 27,
   "id": "7a5cc9bb",
   "metadata": {},
   "outputs": [],
   "source": [
    "loss = nn.NLLLoss()"
   ]
  },
  {
   "cell_type": "code",
   "execution_count": 28,
   "id": "6aeb314d",
   "metadata": {},
   "outputs": [
    {
     "name": "stderr",
     "output_type": "stream",
     "text": [
      "Clipping input data to the valid range for imshow with RGB data ([0..1] for floats or [0..255] for integers).\n"
     ]
    },
    {
     "data": {
      "text/plain": [
       "1"
      ]
     },
     "execution_count": 28,
     "metadata": {},
     "output_type": "execute_result"
    },
    {
     "data": {
      "image/png": "[encoded data removed]",
      "text/plain": [
       "<Figure size 432x288 with 1 Axes>"
      ]
     },
     "metadata": {
      "needs_background": "light"
     },
     "output_type": "display_data"
    }
   ],
   "source": [
    "img, label = cifar2[0]\n",
    "\n",
    "plt.imshow(img.permute(1, 2, 0))\n",
    "label"
   ]
  },
  {
   "cell_type": "code",
   "execution_count": 29,
   "id": "489e33b5",
   "metadata": {},
   "outputs": [
    {
     "data": {
      "text/plain": [
       "tensor(0.7939, grad_fn=<NllLossBackward>)"
      ]
     },
     "execution_count": 29,
     "metadata": {},
     "output_type": "execute_result"
    }
   ],
   "source": [
    "out = model(img.view(-1).unsqueeze(0))\n",
    "loss(out, torch.tensor([label]))"
   ]
  },
  {
   "cell_type": "markdown",
   "id": "b72cbffa",
   "metadata": {},
   "source": [
    "7.2.6 Training the classifier"
   ]
  },
  {
   "cell_type": "code",
   "execution_count": null,
   "id": "bbe758cd",
   "metadata": {
    "scrolled": false
   },
   "outputs": [],
   "source": [
    "import torch\n",
    "import torch.nn as nn\n",
    "import torch.optim as optim\n",
    "\n",
    "model = nn.Sequential(nn.Linear(3072, 512),\n",
    "                      nn.Tanh(),\n",
    "                      nn.Linear(512, 2),\n",
    "                      nn.LogSoftmax(dim=1))\n",
    "\n",
    "learning_rate = 1e-2\n",
    "optimizer = optim.SGD(model.parameters(), lr=learning_rate)\n",
    "loss_fn = nn.NLLLoss()\n",
    "\n",
    "n_epochs = 100\n",
    "for epoch in range(n_epochs):\n",
    "    for img, label in cifar2:\n",
    "        out = model(img.view(-1).unsqueeze(0))\n",
    "        loss = loss_fn(out, torch.tensor([label]))\n",
    "        \n",
    "        optimizer.zero_grad()\n",
    "        loss.backward()\n",
    "        optimizer.step()\n",
    "    print(\"Epoch: %d, Loss: %f\" % (epoch, float(loss)))"
   ]
  },
  {
   "cell_type": "markdown",
   "id": "b0bf2e4e",
   "metadata": {},
   "source": [
    "In our training code, we choose minibatches of size 1 by picking one item at a time from the dataset. The torch.utils.data module has a class that helps with shuffling and organizing the data in minibatches: Dataloader.\n",
    "\n",
    "The job of a data loader is to sample minibatches from a dataset, giving us the flexibility to choose from different sampling strategies. A very common strategy is uniform sampling after shuffling the data at each epoch."
   ]
  },
  {
   "cell_type": "code",
   "execution_count": 31,
   "id": "5d0340d7",
   "metadata": {},
   "outputs": [
    {
     "data": {
      "text/plain": [
       "'Tesla K80'"
      ]
     },
     "execution_count": 31,
     "metadata": {},
     "output_type": "execute_result"
    }
   ],
   "source": [
    "torch.cuda.get_device_name(0)"
   ]
  },
  {
   "cell_type": "code",
   "execution_count": 32,
   "id": "6c71f344",
   "metadata": {},
   "outputs": [
    {
     "data": {
      "text/plain": [
       "True"
      ]
     },
     "execution_count": 32,
     "metadata": {},
     "output_type": "execute_result"
    }
   ],
   "source": [
    "torch.cuda.is_available()"
   ]
  },
  {
   "cell_type": "code",
   "execution_count": null,
   "id": "1d33abbf",
   "metadata": {},
   "outputs": [],
   "source": [
    "import torch\n",
    "import torch.nn as nn\n",
    "train_loader = torch.utils.data.DataLoader(cifar2, batch_size=64,\n",
    "                                           shuffle=True)\n",
    "\n",
    "model = nn.Sequential(nn.Linear(3072, 512),\n",
    "                      nn.Tanh(),\n",
    "                      nn.Linear(512, 2),\n",
    "                      nn.LogSoftmax(dim=1))\n",
    "\n",
    "learning_rate = 1e-2\n",
    "optimizer = optim.SGD(model.parameters(), lr=learning_rate)\n",
    "loss_fn = nn.NLLLoss()\n",
    "n_epochs = 100\n",
    "\n",
    "for epoch in range(n_epochs):\n",
    "    for imgs, labels in train_loader:\n",
    "        batch_size = imgs.shape[0]\n",
    "        outputs = model(imgs.view(batch_size, -1))\n",
    "        loss = loss_fn(outputs, labels)\n",
    "        \n",
    "        optimizer.zero_grad()\n",
    "        loss.backward()\n",
    "        optimizer.step()\n",
    "    \n",
    "    print(\"Epoch: %d, Loss: %f\" % (epoch, float(loss)))"
   ]
  },
  {
   "cell_type": "markdown",
   "id": "cc3075f2",
   "metadata": {},
   "source": [
    "we can compute the accuracy of our model on the validation set in terms of the number of correct classifications over the total:"
   ]
  },
  {
   "cell_type": "code",
   "execution_count": 34,
   "id": "0f75134b",
   "metadata": {},
   "outputs": [
    {
     "name": "stdout",
     "output_type": "stream",
     "text": [
      "Accuracy: %f 0.812\n"
     ]
    }
   ],
   "source": [
    "val_loader = torch.utils.data.DataLoader(cifar2_val, batch_size=64,\n",
    "                                         shuffle=False)\n",
    "\n",
    "correct = 0\n",
    "total = 0\n",
    "\n",
    "with torch.no_grad():\n",
    "    for imgs, labels in val_loader:\n",
    "        batch_size = imgs.shape[0]\n",
    "        outputs = model(imgs.view(batch_size, -1))\n",
    "        _, predicted = torch.max(outputs, dim=1)\n",
    "        total += labels.shape[0]\n",
    "        correct += int((predicted == labels).sum())\n",
    "print(\"Accuracy: %f\", correct / total)"
   ]
  },
  {
   "cell_type": "markdown",
   "id": "0dc4370b",
   "metadata": {},
   "source": [
    "It's quite common to drop the last nn.LogSoftmax layer from the network and use nn.CrossEntropyLoss as a loss. Let us try that:"
   ]
  },
  {
   "cell_type": "code",
   "execution_count": 39,
   "id": "eff2a2f7",
   "metadata": {},
   "outputs": [
    {
     "name": "stdout",
     "output_type": "stream",
     "text": [
      "Epoch: 0, Loss: 0.361836\n",
      "Epoch: 1, Loss: 0.228973\n",
      "Epoch: 2, Loss: 0.298336\n",
      "Epoch: 3, Loss: 0.499869\n",
      "Epoch: 4, Loss: 0.357887\n",
      "Epoch: 5, Loss: 0.344600\n",
      "Epoch: 6, Loss: 0.178505\n",
      "Epoch: 7, Loss: 0.379637\n",
      "Epoch: 8, Loss: 0.370935\n",
      "Epoch: 9, Loss: 0.878428\n",
      "Epoch: 10, Loss: 0.950302\n",
      "Epoch: 11, Loss: 0.270932\n",
      "Epoch: 12, Loss: 0.282296\n",
      "Epoch: 13, Loss: 0.576294\n",
      "Epoch: 14, Loss: 0.950157\n",
      "Epoch: 15, Loss: 0.519083\n",
      "Epoch: 16, Loss: 0.339401\n",
      "Epoch: 17, Loss: 0.277401\n",
      "Epoch: 18, Loss: 0.448433\n",
      "Epoch: 19, Loss: 0.221876\n",
      "Epoch: 20, Loss: 0.307782\n",
      "Epoch: 21, Loss: 0.194784\n",
      "Epoch: 22, Loss: 0.235053\n",
      "Epoch: 23, Loss: 0.340276\n",
      "Epoch: 24, Loss: 0.263133\n",
      "Epoch: 25, Loss: 0.492113\n",
      "Epoch: 26, Loss: 0.148804\n",
      "Epoch: 27, Loss: 0.394775\n",
      "Epoch: 28, Loss: 0.168948\n",
      "Epoch: 29, Loss: 0.079750\n",
      "Epoch: 30, Loss: 0.559918\n",
      "Epoch: 31, Loss: 0.189379\n",
      "Epoch: 32, Loss: 0.422231\n",
      "Epoch: 33, Loss: 0.341690\n",
      "Epoch: 34, Loss: 0.101193\n",
      "Epoch: 35, Loss: 0.346187\n",
      "Epoch: 36, Loss: 0.103391\n",
      "Epoch: 37, Loss: 0.205965\n",
      "Epoch: 38, Loss: 0.101041\n",
      "Epoch: 39, Loss: 0.140645\n",
      "Epoch: 40, Loss: 0.034982\n",
      "Epoch: 41, Loss: 0.077691\n",
      "Epoch: 42, Loss: 0.134133\n",
      "Epoch: 43, Loss: 0.065795\n",
      "Epoch: 44, Loss: 0.073622\n",
      "Epoch: 45, Loss: 0.111044\n",
      "Epoch: 46, Loss: 0.956098\n",
      "Epoch: 47, Loss: 0.023810\n",
      "Epoch: 48, Loss: 0.051410\n",
      "Epoch: 49, Loss: 0.033906\n",
      "Epoch: 50, Loss: 0.030538\n",
      "Epoch: 51, Loss: 0.009636\n",
      "Epoch: 52, Loss: 0.167486\n",
      "Epoch: 53, Loss: 0.017950\n",
      "Epoch: 54, Loss: 0.017942\n",
      "Epoch: 55, Loss: 0.004892\n",
      "Epoch: 56, Loss: 0.066818\n",
      "Epoch: 57, Loss: 0.013072\n",
      "Epoch: 58, Loss: 0.029770\n",
      "Epoch: 59, Loss: 0.074475\n",
      "Epoch: 60, Loss: 0.014327\n",
      "Epoch: 61, Loss: 0.017616\n",
      "Epoch: 62, Loss: 0.021589\n",
      "Epoch: 63, Loss: 0.006798\n",
      "Epoch: 64, Loss: 0.020936\n",
      "Epoch: 65, Loss: 0.006438\n",
      "Epoch: 66, Loss: 0.003122\n",
      "Epoch: 67, Loss: 0.004257\n",
      "Epoch: 68, Loss: 0.003867\n",
      "Epoch: 69, Loss: 0.069391\n",
      "Epoch: 70, Loss: 0.002696\n",
      "Epoch: 71, Loss: 0.042014\n",
      "Epoch: 72, Loss: 0.003032\n",
      "Epoch: 73, Loss: 0.006597\n",
      "Epoch: 74, Loss: 0.001050\n",
      "Epoch: 75, Loss: 0.002474\n",
      "Epoch: 76, Loss: 0.004430\n",
      "Epoch: 77, Loss: 0.007595\n",
      "Epoch: 78, Loss: 0.001489\n",
      "Epoch: 79, Loss: 0.004294\n",
      "Epoch: 80, Loss: 0.012822\n",
      "Epoch: 81, Loss: 0.002895\n",
      "Epoch: 82, Loss: 0.001472\n",
      "Epoch: 83, Loss: 0.002332\n",
      "Epoch: 84, Loss: 0.010450\n",
      "Epoch: 85, Loss: 0.001821\n",
      "Epoch: 86, Loss: 0.006789\n",
      "Epoch: 87, Loss: 0.003118\n",
      "Epoch: 88, Loss: 0.002697\n",
      "Epoch: 89, Loss: 0.001190\n",
      "Epoch: 90, Loss: 0.002477\n",
      "Epoch: 91, Loss: 0.000657\n",
      "Epoch: 92, Loss: 0.005677\n",
      "Epoch: 93, Loss: 0.000224\n",
      "Epoch: 94, Loss: 0.005347\n",
      "Epoch: 95, Loss: 0.000486\n",
      "Epoch: 96, Loss: 0.005468\n",
      "Epoch: 97, Loss: 0.001635\n",
      "Epoch: 98, Loss: 0.000306\n",
      "Epoch: 99, Loss: 0.001955\n"
     ]
    }
   ],
   "source": [
    "import torch\n",
    "import torch.nn as nn\n",
    "import torch.optim as optim\n",
    "\n",
    "train_loader = torch.utils.data.DataLoader(cifar2, batch_size=64,\n",
    "                                           shuffle=True)\n",
    "\n",
    "model = nn.Sequential(\n",
    "            nn.Linear(3072, 1024),\n",
    "            nn.Tanh(),\n",
    "            nn.Linear(1024, 512),\n",
    "            nn.Tanh(),\n",
    "            nn.Linear(512, 128),\n",
    "            nn.Tanh(),\n",
    "            nn.Linear(128, 2))\n",
    "\n",
    "learning_rate = 1e-2\n",
    "\n",
    "optimizer = optim.SGD(model.parameters(), lr=learning_rate)\n",
    "\n",
    "loss_fn = nn.CrossEntropyLoss()\n",
    "\n",
    "n_epochs = 100\n",
    "\n",
    "for epoch in range(n_epochs):\n",
    "    for imgs, labels in train_loader:\n",
    "        outputs = model(imgs.view(imgs.shape[0], -1))\n",
    "        loss = loss_fn(outputs, labels)\n",
    "\n",
    "        optimizer.zero_grad()\n",
    "        loss.backward()\n",
    "        optimizer.step()\n",
    "\n",
    "    print(\"Epoch: %d, Loss: %f\" % (epoch, float(loss)))"
   ]
  },
  {
   "cell_type": "code",
   "execution_count": 40,
   "id": "042bb7e4",
   "metadata": {},
   "outputs": [
    {
     "name": "stdout",
     "output_type": "stream",
     "text": [
      "Accuracy: 0.808000\n"
     ]
    }
   ],
   "source": [
    "val_loader = torch.utils.data.DataLoader(cifar2_val, batch_size=64,\n",
    "                                         shuffle=False)\n",
    "\n",
    "correct = 0\n",
    "total = 0\n",
    "\n",
    "with torch.no_grad():\n",
    "    for imgs, labels in val_loader:\n",
    "        outputs = model(imgs.view(imgs.shape[0], -1))\n",
    "        _, predicted = torch.max(outputs, dim=1)\n",
    "        total += labels.shape[0]\n",
    "        correct += int((predicted == labels).sum())\n",
    "        \n",
    "print(\"Accuracy: %f\" % (correct / total))"
   ]
  },
  {
   "cell_type": "markdown",
   "id": "5d269b1c",
   "metadata": {},
   "source": [
    "Pytorch offers a quick way to determine how many parameters a model has through the $parameters()$ method of $nn.Model$."
   ]
  },
  {
   "cell_type": "code",
   "execution_count": 41,
   "id": "46eb81be",
   "metadata": {},
   "outputs": [
    {
     "data": {
      "text/plain": [
       "(3737474, [3145728, 1024, 524288, 512, 65536, 128, 256, 2])"
      ]
     },
     "execution_count": 41,
     "metadata": {},
     "output_type": "execute_result"
    }
   ],
   "source": [
    "numel_list = [p.numel() \n",
    "              for p in model.parameters() \n",
    "              if p.requires_grad==True]\n",
    "sum(numel_list), numel_list"
   ]
  },
  {
   "cell_type": "markdown",
   "id": "a5cd519e",
   "metadata": {},
   "source": [
    "Let's check the quantity of parameters:"
   ]
  },
  {
   "cell_type": "code",
   "execution_count": 42,
   "id": "35827973",
   "metadata": {},
   "outputs": [
    {
     "data": {
      "text/plain": [
       "(torch.Size([1024, 3072]), torch.Size([1024]))"
      ]
     },
     "execution_count": 42,
     "metadata": {},
     "output_type": "execute_result"
    }
   ],
   "source": [
    "linear = nn.Linear(3072, 1024)\n",
    "linear.weight.shape, linear.bias.shape"
   ]
  },
  {
   "cell_type": "markdown",
   "id": "bfe8919f",
   "metadata": {},
   "source": [
    "Our neural network won't scale very well with the number of pixels. What if we had a $1024\\times 1024$ RGB image? That's 3.1 million inputs values. Even abruptly going to 1024 hidden features, we would have over 3 billion parameters. Using 32-bit floats, we're already at 12GB RAM, and we haven't even hit the second layer, much less computed and stored the gradients."
   ]
  }
 ],
 "metadata": {
  "kernelspec": {
   "display_name": "Python 3",
   "language": "python",
   "name": "python3"
  },
  "language_info": {
   "codemirror_mode": {
    "name": "ipython",
    "version": 3
   },
   "file_extension": ".py",
   "mimetype": "text/x-python",
   "name": "python",
   "nbconvert_exporter": "python",
   "pygments_lexer": "ipython3",
   "version": "3.6.9"
  }
 },
 "nbformat": 4,
 "nbformat_minor": 5
}
