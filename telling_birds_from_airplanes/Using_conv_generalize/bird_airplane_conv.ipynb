{
 "cells": [
  {
   "cell_type": "markdown",
   "id": "e860a171",
   "metadata": {},
   "source": [
    "## Telling birds from airplanes using conv\n",
    "For our CIFAR-10 data, we will resort to nn.Conv2d. At a minimum, the arguments we provide to nn.Conv2d are the number of input features, the number of output features, and the size of kernel. For instance, for our first convolutional module, we'll have 3 input features per pixel (RGB) and an arbitrary number of channels in the output-say, 16. The more channels in the output image, the more the capacity of the network. We need the channels to be able to detect many different types of features. Also, because we are randomly initializing them, some of the features we'll get, even after training, will turn out to be useless. Let's stick to a kernel size $3\\times 3$."
   ]
  },
  {
   "cell_type": "code",
   "execution_count": 1,
   "id": "445bc491",
   "metadata": {},
   "outputs": [
    {
     "data": {
      "text/plain": [
       "Conv2d(3, 16, kernel_size=(3, 3), stride=(1, 1))"
      ]
     },
     "execution_count": 1,
     "metadata": {},
     "output_type": "execute_result"
    }
   ],
   "source": [
    "import torch.nn as nn\n",
    "\n",
    "conv = nn.Conv2d(3, 16, kernel_size=3)\n",
    "conv"
   ]
  },
  {
   "cell_type": "markdown",
   "id": "0b38bfdf",
   "metadata": {},
   "source": [
    "For a single output pixel value, our kernel would consider, say in\\_ch=3 input channels, so the weight component for a single output pixel value is of shape $in\\_ch\\times 3\\times 3$. Finally, we have as many of those as we have output channels, here out\\_ch=16, so the complete weight tensor is $out\\_ch\\times in\\_ch \\times 3\\times 3$, in our case, $16\\times 3\\times 3\\times 3$. The biase will have size 16. Let's verify:"
   ]
  },
  {
   "cell_type": "code",
   "execution_count": 2,
   "id": "bdfca20e",
   "metadata": {},
   "outputs": [
    {
     "data": {
      "text/plain": [
       "(torch.Size([16, 3, 3, 3]), torch.Size([16]))"
      ]
     },
     "execution_count": 2,
     "metadata": {},
     "output_type": "execute_result"
    }
   ],
   "source": [
    "conv.weight.shape, conv.bias.shape"
   ]
  },
  {
   "cell_type": "markdown",
   "id": "e8ec8616",
   "metadata": {},
   "source": [
    "A 2D convolution pass produces a 2D image as output, whose pixels are a weighted sum over neighborhoods of the input image. In our case, both kernel weights and the bias conv.weight are initialized randomly, so the output image will not be particularly meaningful. As usual, we need to add the zeroth batch dimension with unsqueeze if we want to call the conv module with one input image, since nn.Conv2d expects a $B\\times C\\times H\\times W$ shaped tensor as input:"
   ]
  },
  {
   "cell_type": "code",
   "execution_count": 8,
   "id": "95702ef2",
   "metadata": {},
   "outputs": [],
   "source": [
    "from torchvision import datasets\n",
    "from torchvision import transforms\n",
    "\n",
    "data_path = '../../dlp_es/CIFAR-10/'\n",
    "cifar10 = datasets.CIFAR10(data_path, train=True, download=False,\n",
    "                           transform=transforms.Compose([transforms.ToTensor(),\n",
    "                                                         transforms.Normalize((0.4914, 0.4822, 0.4465),\n",
    "                                                                              (0.2470, 0.2435, 0.2616))]))\n",
    "\n",
    "cifar10_val = datasets.CIFAR10(data_path, train=False, download=False,\n",
    "                               transform=transforms.Compose([transforms.ToTensor(),\n",
    "                                                             transforms.Normalize((0.4914, 0.4822, 0.4465),\n",
    "                                                                                  (0.2470, 0.2435, 0.2616))]))\n",
    "\n",
    "label_map = {0: 0, 2: 1}\n",
    "class_names = ['airplane', 'bird']\n",
    "cifar2 = [(img, label_map[label])\n",
    "          for img, label in cifar10\n",
    "          if label in [0, 2]]\n",
    "\n",
    "cifar2_val = [(img, label_map[label])\n",
    "              for img, label in cifar10_val\n",
    "              if label in [0, 2]]"
   ]
  },
  {
   "cell_type": "code",
   "execution_count": 13,
   "id": "ff3130b4",
   "metadata": {},
   "outputs": [
    {
     "data": {
      "text/plain": [
       "(torch.Size([1, 3, 32, 32]), torch.Size([1, 16, 30, 30]))"
      ]
     },
     "execution_count": 13,
     "metadata": {},
     "output_type": "execute_result"
    }
   ],
   "source": [
    "img, _ = cifar2[0]\n",
    "output = conv(img.unsqueeze(0))\n",
    "img.unsqueeze(0).shape, output.shape"
   ]
  },
  {
   "cell_type": "markdown",
   "id": "feea4ab6",
   "metadata": {},
   "source": [
    "Display the output:"
   ]
  },
  {
   "cell_type": "code",
   "execution_count": 23,
   "id": "3406c384",
   "metadata": {},
   "outputs": [
    {
     "data": {
      "text/plain": [
       "<matplotlib.image.AxesImage at 0x7fcd4fd1a6d8>"
      ]
     },
     "execution_count": 23,
     "metadata": {},
     "output_type": "execute_result"
    },
    {
     "data": {
      "image/png": "[encoded data removed]",
      "text/plain": [
       "<Figure size 432x288 with 1 Axes>"
      ]
     },
     "metadata": {
      "needs_background": "light"
     },
     "output_type": "display_data"
    }
   ],
   "source": [
    "from matplotlib import pyplot as plt\n",
    "import numpy as np\n",
    "\n",
    "plt.imshow(output[0,0].detach(), cmap='gray')"
   ]
  },
  {
   "cell_type": "code",
   "execution_count": 29,
   "id": "486311eb",
   "metadata": {},
   "outputs": [
    {
     "data": {
      "text/plain": [
       "<matplotlib.image.AxesImage at 0x7fcd4fed32b0>"
      ]
     },
     "execution_count": 29,
     "metadata": {},
     "output_type": "execute_result"
    },
    {
     "data": {
      "image/png": "[encoded data removed]",
      "text/plain": [
       "<Figure size 432x288 with 1 Axes>"
      ]
     },
     "metadata": {
      "needs_background": "light"
     },
     "output_type": "display_data"
    }
   ],
   "source": [
    "# input img\n",
    "plt.imshow(img.unsqueeze(0)[0,0], cmap='gray')"
   ]
  },
  {
   "cell_type": "code",
   "execution_count": 30,
   "id": "d761c829",
   "metadata": {},
   "outputs": [
    {
     "data": {
      "text/plain": [
       "(torch.Size([1, 3, 32, 32]), torch.Size([1, 1, 32, 32]))"
      ]
     },
     "execution_count": 30,
     "metadata": {},
     "output_type": "execute_result"
    }
   ],
   "source": [
    "conv = nn.Conv2d(3, 1, kernel_size=3, padding=1)\n",
    "output = conv(img.unsqueeze(0))\n",
    "img.unsqueeze(0).shape, output.shape"
   ]
  },
  {
   "cell_type": "markdown",
   "id": "6ae03915",
   "metadata": {},
   "source": [
    "### Dectecing features with convolutions\n",
    "weight and bias are parameters that are learned through back-propagation. However, we can play with convolution by setting weights by hand and see what happens. Let's first zero out bias, just to remove any confounding factors, and then set weights to a constant value so that each pixel in the output gets the mean of its neighbors. For each $3\\times 3$ neighborhood:"
   ]
  },
  {
   "cell_type": "code",
   "execution_count": 33,
   "id": "38c1ac45",
   "metadata": {},
   "outputs": [],
   "source": [
    "import torch\n",
    "\n",
    "with torch.no_grad():\n",
    "    conv.bias.zero_()\n",
    "\n",
    "with torch.no_grad():\n",
    "    conv.weight.fill_(1.0 / 9.0)"
   ]
  },
  {
   "cell_type": "markdown",
   "id": "9b9a2868",
   "metadata": {},
   "source": [
    "Let's see the effect on our CIFAR image:"
   ]
  },
  {
   "cell_type": "code",
   "execution_count": 34,
   "id": "f383e661",
   "metadata": {},
   "outputs": [
    {
     "data": {
      "text/plain": [
       "<matplotlib.image.AxesImage at 0x7fcd4fc73c18>"
      ]
     },
     "execution_count": 34,
     "metadata": {},
     "output_type": "execute_result"
    },
    {
     "data": {
      "image/png": "[encoded data removed]",
      "text/plain": [
       "<Figure size 432x288 with 1 Axes>"
      ]
     },
     "metadata": {
      "needs_background": "light"
     },
     "output_type": "display_data"
    }
   ],
   "source": [
    "output = conv(img.unsqueeze(0))\n",
    "plt.imshow(output[0,0].detach(), cmap='gray')"
   ]
  },
  {
   "cell_type": "markdown",
   "id": "e2c66ffa",
   "metadata": {},
   "source": [
    "As we can predict, the filter produces a blurred version of the image. After all, every pixel of the output is the average of a neightborhood of the input, so pixel in the output are correlated and change more smoothly.\n",
    "\n",
    "edge-dectection kernel, have already been talked about in image processing.\n",
    "\n",
    "Max pooling is provided by the nn.MaxPool2d module. It takes as input size of the neighborhood over which to operate the pooling operation. If we wish to downsample our image by half, we'll want to use a size of 2"
   ]
  },
  {
   "cell_type": "code",
   "execution_count": 36,
   "id": "4ed32c3d",
   "metadata": {},
   "outputs": [
    {
     "data": {
      "text/plain": [
       "(torch.Size([1, 3, 32, 32]), torch.Size([1, 3, 16, 16]))"
      ]
     },
     "execution_count": 36,
     "metadata": {},
     "output_type": "execute_result"
    }
   ],
   "source": [
    "pool = nn.MaxPool2d(2)\n",
    "output = pool(img.unsqueeze(0))\n",
    "\n",
    "img.unsqueeze(0).shape, output.shape"
   ]
  },
  {
   "cell_type": "markdown",
   "id": "d1f16a38",
   "metadata": {},
   "source": [
    "Putting it all together for our network. Let's take our previous fully connected model as a starting point and introduce nn.Conv2d and nn.MaxPool2d as described previously:"
   ]
  },
  {
   "cell_type": "code",
   "execution_count": 38,
   "id": "a3b48ecf",
   "metadata": {},
   "outputs": [],
   "source": [
    "model = nn.Sequential(nn.Conv2d(3, 16, kernel_size=3, padding=1),\n",
    "                      nn.Tanh(), \n",
    "                      nn.MaxPool2d(2),nn.Conv2d(16, 8, kernel_size=3, padding=1),\n",
    "                      nn.Tanh(),\n",
    "                      nn.MaxPool2d(2),\n",
    "                      #\n",
    "                      nn.Linear(8 * 8 * 8, 32),\n",
    "                      nn.Tanh(),\n",
    "                      nn.Linear(32, 2))"
   ]
  },
  {
   "cell_type": "markdown",
   "id": "773278b7",
   "metadata": {},
   "source": [
    "Where does this end? After the input image has been reduced to a set of $8\\times 8$ features, we expect to output some probabilities from the network that we can feed to our negative log likelihood. However, probabilities are a pair of numbers in a 1D vector, but here we're still dealing with multichannel 2D features.\n",
    "\n",
    "Let's count the number of parameters for this small model:"
   ]
  },
  {
   "cell_type": "code",
   "execution_count": 39,
   "id": "89b400cd",
   "metadata": {},
   "outputs": [
    {
     "data": {
      "text/plain": [
       "(18090, [432, 16, 1152, 8, 16384, 32, 64, 2])"
      ]
     },
     "execution_count": 39,
     "metadata": {},
     "output_type": "execute_result"
    }
   ],
   "source": [
    "numel_list = [p.numel() for p in model.parameters()]\n",
    "sum(numel_list), numel_list"
   ]
  },
  {
   "cell_type": "code",
   "execution_count": null,
   "id": "9b189c91",
   "metadata": {},
   "outputs": [],
   "source": [
    "model(img.unsqueeze(0))\n",
    "\n",
    "# RuntimeError: mat1 and mat2 shapes cannot be multiplied (64x8 and 512x32)"
   ]
  },
  {
   "cell_type": "markdown",
   "id": "6eac229f",
   "metadata": {},
   "source": [
    "What's missing here is the reshaping step from an 8-channel $8\\times 8$ image to a 512-element, 1D vector. This could be achieved by calling $view$ on the output of the last nn.MaxPool2d, but unfortunately, we don't have any explicit visibility of the output each module when we use nn.Sequential\n",
    "\n",
    "### Subclassing nn.Module\n",
    "In this section, we learn how to make our own nn.Modules subclass that we can then use just like the prebuilt ones or nn.Sequential"
   ]
  },
  {
   "cell_type": "markdown",
   "id": "98f64b15",
   "metadata": {},
   "source": [
    "In order to subclass nn.Module, at a minimum we need to define a $forward$ function that takes the inputs to the module and returns the output. This is where we define our module's computation. The name $forward$ here is reminiscent of a distant past, when module needed to define both forward and backward passes we met. With Pytorch, if we use standard $torch$ operations, $autograd$ will take care of the backward pass automatically, and indeed, an nn.Module never comes with a $backward$.\n",
    "\n",
    "To include these submodules, we typically define them in the constructor \\_\\_init\\_\\_ and assign them to $self$ for use in the forward function."
   ]
  },
  {
   "cell_type": "code",
   "execution_count": 43,
   "id": "7d7e2e8c",
   "metadata": {},
   "outputs": [],
   "source": [
    "import torch.nn.functional as F\n",
    "\n",
    "class Net(nn.Module):\n",
    "    def __init__(self):\n",
    "        super().__init__()\n",
    "        self.conv1 = nn.Conv2d(3, 16, kernel_size=3, padding=1)\n",
    "        self.conv2 = nn.Conv2d(16, 8, kernel_size=3, padding=1)\n",
    "        self.fc1 = nn.Linear(8 * 8 * 8, 32)\n",
    "        self.fc2 = nn.Linear(32, 2)\n",
    "        \n",
    "    def forward(self, x):\n",
    "        out = F.max_pool2d(torch.tanh(self.conv1(x)), 2)\n",
    "        out = F.max_pool2d(torch.tanh(self.conv2(out)), 2)\n",
    "        out = out.view(-1, 8 * 8 * 8)\n",
    "        out = torch.tanh(self.fc1(out))\n",
    "        out = self.fc2(out)\n",
    "        return out"
   ]
  },
  {
   "cell_type": "code",
   "execution_count": 44,
   "id": "db50ce3e",
   "metadata": {},
   "outputs": [
    {
     "data": {
      "text/plain": [
       "(18090, [432, 16, 1152, 8, 16384, 32, 64, 2])"
      ]
     },
     "execution_count": 44,
     "metadata": {},
     "output_type": "execute_result"
    }
   ],
   "source": [
    "model = Net()\n",
    "\n",
    "numel_list = [p.numel() for p in model.parameters()]\n",
    "sum(numel_list), numel_list"
   ]
  },
  {
   "cell_type": "markdown",
   "id": "ce87dd38",
   "metadata": {},
   "source": [
    "Thus, the funcitonal way also sheds light on what the nn.Module API is all about: a Module is a container for state in the forms of $Parameters$ and submodules combined with the instructions to do a forward.\n",
    "\n",
    "Now let's double-check the constructor, then we will get to the training loop."
   ]
  },
  {
   "cell_type": "code",
   "execution_count": 45,
   "id": "a4438257",
   "metadata": {},
   "outputs": [
    {
     "data": {
      "text/plain": [
       "tensor([[0.2220, 0.1097]], grad_fn=<AddmmBackward>)"
      ]
     },
     "execution_count": 45,
     "metadata": {},
     "output_type": "execute_result"
    }
   ],
   "source": [
    "model = Net()\n",
    "model(img.unsqueeze(0))"
   ]
  },
  {
   "cell_type": "markdown",
   "id": "84bcc35a",
   "metadata": {},
   "source": [
    "### Training our convnet\n",
    "Recall that the core of our convnet is two nested loops: an outer one over the $epochs$ and an inner one of the $DataLoader$ that produces batches from our $Dataset$. In each loop, we have to:\n",
    "1. Feed the inputs through the model (the forward pass)\n",
    "2. Compute the loss (also the part of forward)\n",
    "3. Zero any old gradients\n",
    "4. Call loss.backward() to compute the gradients of the loss with respect to all parameters (the backward pass)\n",
    "5. Have the optimizer take a step in toward lower loss"
   ]
  },
  {
   "cell_type": "code",
   "execution_count": 49,
   "id": "73653d02",
   "metadata": {},
   "outputs": [],
   "source": [
    "import torch.optim as optim\n",
    "import datetime\n",
    "\n",
    "def training_loop(n_epochs, optimizer, model, loss_fn, train_loader):\n",
    "    for epoch in range(1, n_epochs + 1):\n",
    "        loss_train = 0.0\n",
    "        for imgs, labels in train_loader:\n",
    "            outputs = model(imgs)\n",
    "            loss = loss_fn(outputs, labels)\n",
    "            optimizer.zero_grad()\n",
    "            loss.backward()\n",
    "            optimizer.step()\n",
    "            loss_train += loss.item()\n",
    "        if epoch == 1 or epoch % 10 == 0:\n",
    "            print('{} Epoch {}, Training loss {}'.format(datetime.datetime.now(),\n",
    "                                                         epoch,\n",
    "                                                         loss_train / len(train_loader)))"
   ]
  },
  {
   "cell_type": "code",
   "execution_count": 50,
   "id": "48ac71f6",
   "metadata": {},
   "outputs": [
    {
     "name": "stdout",
     "output_type": "stream",
     "text": [
      "2021-09-06 22:41:00.816004 Epoch 1, Training loss 0.5682625975578454\n",
      "2021-09-06 22:41:18.529719 Epoch 10, Training loss 0.32345046178930126\n",
      "2021-09-06 22:41:38.016864 Epoch 20, Training loss 0.29139912802322654\n",
      "2021-09-06 22:41:57.327811 Epoch 30, Training loss 0.26563988364995667\n",
      "2021-09-06 22:42:16.708650 Epoch 40, Training loss 0.24495113436963148\n",
      "2021-09-06 22:42:35.975007 Epoch 50, Training loss 0.22590986625024467\n",
      "2021-09-06 22:42:55.249463 Epoch 60, Training loss 0.20922158933748866\n",
      "2021-09-06 22:43:14.592904 Epoch 70, Training loss 0.19498086217672203\n",
      "2021-09-06 22:43:33.889939 Epoch 80, Training loss 0.17966891801471163\n",
      "2021-09-06 22:43:53.245683 Epoch 90, Training loss 0.16475188395210133\n",
      "2021-09-06 22:44:12.770232 Epoch 100, Training loss 0.1512153355084407\n"
     ]
    }
   ],
   "source": [
    "train_loader = torch.utils.data.DataLoader(cifar2, batch_size=64,shuffle=True)\n",
    "\n",
    "model = Net()\n",
    "optimizer = optim.SGD(model.parameters(), lr=1e-2)\n",
    "loss_fn = nn.CrossEntropyLoss() \n",
    "\n",
    "training_loop(n_epochs = 100,\n",
    "              optimizer = optimizer,\n",
    "              model = model,\n",
    "              loss_fn = loss_fn,\n",
    "              train_loader = train_loader,)"
   ]
  }
 ],
 "metadata": {
  "kernelspec": {
   "display_name": "Python 3",
   "language": "python",
   "name": "python3"
  },
  "language_info": {
   "codemirror_mode": {
    "name": "ipython",
    "version": 3
   },
   "file_extension": ".py",
   "mimetype": "text/x-python",
   "name": "python",
   "nbconvert_exporter": "python",
   "pygments_lexer": "ipython3",
   "version": "3.6.9"
  }
 },
 "nbformat": 4,
 "nbformat_minor": 5
}
